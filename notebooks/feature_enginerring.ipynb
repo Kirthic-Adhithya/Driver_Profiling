{
 "cells": [
  {
   "cell_type": "code",
   "execution_count": null,
   "id": "c197d43d",
   "metadata": {},
   "outputs": [
    {
     "name": "stderr",
     "output_type": "stream",
     "text": [
      "core           INFO \tLoading data for Italian Grand Prix - Race [v3.6.0]\n",
      "req            INFO \tUsing cached data for session_info\n",
      "req            INFO \tUsing cached data for driver_info\n",
      "req            INFO \tUsing cached data for session_status_data\n",
      "req            INFO \tUsing cached data for lap_count\n",
      "req            INFO \tUsing cached data for track_status_data\n",
      "req            INFO \tUsing cached data for _extended_timing_data\n",
      "req            INFO \tUsing cached data for timing_app_data\n",
      "core           INFO \tProcessing timing data...\n",
      "req            INFO \tUsing cached data for car_data\n",
      "req            INFO \tUsing cached data for position_data\n",
      "req            INFO \tUsing cached data for weather_data\n",
      "req            INFO \tUsing cached data for race_control_messages\n",
      "core        WARNING \tDriver 1 completed the race distance 06:25.888000 before the recorded end of the session.\n",
      "core        WARNING \tDriver 11 completed the race distance 06:19.824000 before the recorded end of the session.\n",
      "core        WARNING \tDriver 55 completed the race distance 06:14.695000 before the recorded end of the session.\n",
      "core        WARNING \tDriver 16 completed the race distance 06:14.511000 before the recorded end of the session.\n",
      "core        WARNING \tDriver 63 completed the race distance 06:07.860000 before the recorded end of the session.\n",
      "core        WARNING \tDriver 44 completed the race distance 05:48.209000 before the recorded end of the session.\n",
      "core        WARNING \tDriver 23 completed the race distance 05:40.782000 before the recorded end of the session.\n",
      "core        WARNING \tDriver 4 completed the race distance 05:40.439000 before the recorded end of the session.\n",
      "core        WARNING \tDriver 14 completed the race distance 05:39.594000 before the recorded end of the session.\n",
      "core           INFO \tFinished loading data for 20 drivers: ['1', '11', '55', '16', '63', '44', '23', '4', '14', '77', '40', '81', '2', '24', '10', '18', '27', '20', '31', '22']\n"
     ]
    }
   ],
   "source": [
    "from fastf1 import plotting\n",
    "import fastf1\n",
    "import pandas as pd\n",
    "\n",
    "fastf1.Cache.enable_cache('Driver-Behavioural-Profiling\\\\cache') \n",
    "\n",
    "# Load session\n",
    "session = fastf1.get_session(2023, 'Monza', 'R')\n",
    "session.load()"
   ]
  },
  {
   "cell_type": "code",
   "execution_count": 30,
   "id": "43958fec",
   "metadata": {},
   "outputs": [],
   "source": [
    "drivers = session.laps['Driver'].unique()\n",
    "all_features = []"
   ]
  },
  {
   "cell_type": "code",
   "execution_count": null,
   "id": "b82018ab",
   "metadata": {},
   "outputs": [],
   "source": [
    "for driver in drivers:\n",
    "    laps = session.laps.pick_drivers(driver)\n",
    "    fastest_lap = laps.pick_fastest()\n",
    "    \n",
    "    if fastest_lap is None:\n",
    "        continue\n",
    "    tel = fastest_lap.get_car_data().add_distance()\n",
    "\n",
    "    features = {\n",
    "        'Driver' : driver,\n",
    "        'SpeedMean' : tel['Speed'].mean(),\n",
    "        'SpeedMax' : tel['Speed'].max(),\n",
    "        'ThrottleStd' : tel['Throttle'].std(),\n",
    "        'BrakePct' : (tel['Brake']>0).sum()/len(tel),\n",
    "        'GearChanges' : tel['nGear'].nunique()\n",
    "    }\n",
    "\n",
    "    all_features.append(features)\n",
    "\n",
    "\n",
    "df = pd.DataFrame(all_features)\n",
    "df.to_csv('Driver-Behavioural-Profiling\\\\data\\\\driver_behavior.csv', index=False)"
   ]
  }
 ],
 "metadata": {
  "kernelspec": {
   "display_name": "Python 3",
   "language": "python",
   "name": "python3"
  },
  "language_info": {
   "codemirror_mode": {
    "name": "ipython",
    "version": 3
   },
   "file_extension": ".py",
   "mimetype": "text/x-python",
   "name": "python",
   "nbconvert_exporter": "python",
   "pygments_lexer": "ipython3",
   "version": "3.12.5"
  }
 },
 "nbformat": 4,
 "nbformat_minor": 5
}
